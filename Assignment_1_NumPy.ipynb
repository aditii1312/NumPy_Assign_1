{
 "cells": [
  {
   "cell_type": "markdown",
   "id": "ac934611",
   "metadata": {},
   "source": [
    "# Q1) Create a null vector of size 10 but the fifth value which is 1."
   ]
  },
  {
   "cell_type": "code",
   "execution_count": 1,
   "id": "819c9030",
   "metadata": {},
   "outputs": [
    {
     "name": "stdout",
     "output_type": "stream",
     "text": [
      "[0. 0. 0. 0. 0. 0. 0. 0. 0. 0.]\n",
      "fifth value is 1\n",
      "[0. 0. 0. 0. 0. 1. 0. 0. 0. 0.]\n"
     ]
    }
   ],
   "source": [
    "import numpy as np\n",
    "x = np.zeros(10)\n",
    "print(x)\n",
    "print(\"fifth value is 1\")\n",
    "x[5] = 1\n",
    "print(x)"
   ]
  },
  {
   "cell_type": "markdown",
   "id": "fec7ee97",
   "metadata": {},
   "source": [
    "# Q2) Create a vector with values ranging from 10 to 49."
   ]
  },
  {
   "cell_type": "code",
   "execution_count": 4,
   "id": "4a0c9be7",
   "metadata": {},
   "outputs": [
    {
     "name": "stdout",
     "output_type": "stream",
     "text": [
      "Given vector:\n",
      "[10 11 12 13 14 15 16 17 18 19 20 21 22 23 24 25 26 27 28 29 30 31 32 33\n",
      " 34 35 36 37 38 39 40 41 42 43 44 45 46 47 48]\n",
      "Resultant vector\n",
      "[10 11 12 13 14 15 16 17 18 19 20 21 22 23 24 25 26 27 28 29 30 31 32 33\n",
      " 34 35 36 37 38 39 40 41 42 43 44 45 46 47 48]\n"
     ]
    }
   ],
   "source": [
    "import numpy as np\n",
    "v = np.arange(10,49)\n",
    "print(\"Given vector:\")\n",
    "print(v)\n",
    "print(\"Resultant vector\")\n",
    "v[1:-1]\n",
    "print(v)"
   ]
  },
  {
   "cell_type": "markdown",
   "id": "35458f6b",
   "metadata": {},
   "source": [
    "# Q3) Create a 3x3 matrix with values ranging from 0 to 8"
   ]
  },
  {
   "cell_type": "code",
   "execution_count": 1,
   "id": "38a2524b",
   "metadata": {},
   "outputs": [
    {
     "name": "stdout",
     "output_type": "stream",
     "text": [
      "[[0 1 2]\n",
      " [3 4 5]\n",
      " [6 7 8]]\n"
     ]
    }
   ],
   "source": [
    "import numpy as np\n",
    "\n",
    "matrix = np.arange(9).reshape(3, 3)\n",
    "\n",
    "print(matrix)\n"
   ]
  },
  {
   "cell_type": "markdown",
   "id": "f0ee4e90",
   "metadata": {},
   "source": [
    "# Q4) Find indices of non-zero elements from [1,2,0,0,4,0]"
   ]
  },
  {
   "cell_type": "code",
   "execution_count": 12,
   "id": "dc44baf3",
   "metadata": {},
   "outputs": [
    {
     "name": "stdout",
     "output_type": "stream",
     "text": [
      "Given array:\n",
      "[1 2 0 0 4 0]\n",
      "Indices of non-zero elements:\n",
      "[0 1 4]\n"
     ]
    }
   ],
   "source": [
    "import numpy as np\n",
    "a = np.array([1,2,0,0,4,0])\n",
    "print(\"Given array:\")\n",
    "print(a)\n",
    "print(\"Indices of non-zero elements:\")\n",
    "result = np.where(a != 0)[0]\n",
    "print(result)"
   ]
  },
  {
   "cell_type": "markdown",
   "id": "806dc836",
   "metadata": {},
   "source": [
    "# Q5) Create a 10x10 array with random values and find the minimum and maximum values."
   ]
  },
  {
   "cell_type": "code",
   "execution_count": 15,
   "id": "ebfeb5de",
   "metadata": {},
   "outputs": [
    {
     "name": "stdout",
     "output_type": "stream",
     "text": [
      "Given array:\n",
      "[[0.96348788 0.0258114  0.77590942 0.25885277 0.63481599 0.75787141\n",
      "  0.7490715  0.5060657  0.31304968 0.08066708]\n",
      " [0.0187152  0.98677767 0.86878011 0.16880229 0.25597664 0.90275879\n",
      "  0.0949518  0.19819426 0.04398098 0.1496977 ]\n",
      " [0.2235951  0.91647762 0.07360172 0.591975   0.79787354 0.84009448\n",
      "  0.58810529 0.79823422 0.91405583 0.51876337]\n",
      " [0.69024202 0.6889434  0.36451734 0.47552272 0.25084574 0.37710329\n",
      "  0.8543638  0.46214315 0.21769597 0.3992494 ]\n",
      " [0.76876614 0.08812213 0.75525731 0.94904598 0.036385   0.3055697\n",
      "  0.31669658 0.79180104 0.52047121 0.769913  ]\n",
      " [0.96358166 0.83644618 0.89491332 0.26601819 0.5869458  0.79146178\n",
      "  0.97118432 0.14481677 0.30167992 0.41210659]\n",
      " [0.63473506 0.36138601 0.94795136 0.93740226 0.11231216 0.12775991\n",
      "  0.73166266 0.17217331 0.53615292 0.83005987]\n",
      " [0.47604513 0.64268792 0.29738392 0.56921071 0.96148073 0.34541532\n",
      "  0.858539   0.05418847 0.54591837 0.79750045]\n",
      " [0.92508915 0.84021546 0.5098278  0.10044813 0.56985376 0.81561949\n",
      "  0.86891047 0.41033323 0.16648335 0.33447799]\n",
      " [0.86250772 0.8238689  0.2517458  0.651943   0.29628555 0.30459485\n",
      "  0.59278333 0.17288377 0.99806157 0.40987745]]\n",
      "Minimum and Maximum Values:\n",
      "0.018715198917554465 0.9980615703804534\n"
     ]
    }
   ],
   "source": [
    "import numpy as np\n",
    "x = np.random.random((10,10))\n",
    "print(\"Given array:\")\n",
    "print(x) \n",
    "xmin, xmax = x.min(), x.max()\n",
    "print(\"Minimum and Maximum Values:\")\n",
    "print(xmin, xmax)"
   ]
  },
  {
   "cell_type": "markdown",
   "id": "bbb79031",
   "metadata": {},
   "source": [
    "# Q6) Create a random vector of size 30 and find the mean value."
   ]
  },
  {
   "cell_type": "code",
   "execution_count": 1,
   "id": "996d414b",
   "metadata": {},
   "outputs": [
    {
     "name": "stdout",
     "output_type": "stream",
     "text": [
      "Given array:\n",
      "[0.21900242 0.58390881 0.827105   0.89028086 0.98945362 0.78607322\n",
      " 0.4817476  0.89239449 0.62652548 0.69056253 0.79788793 0.78176405\n",
      " 0.60707942 0.20823198 0.82444154 0.71630361 0.84594832 0.17269889\n",
      " 0.96184962 0.07758369 0.5420228  0.41412232 0.57186319 0.3763768\n",
      " 0.39994392 0.20630531 0.04858414 0.68411894 0.42843999 0.04775547]\n",
      "Mean value:\n",
      "0.5566791985640533\n"
     ]
    }
   ],
   "source": [
    "import numpy as np\n",
    "x = np.random.random(30)\n",
    "print(\"Given array:\")\n",
    "print(x)\n",
    "a = x.mean()\n",
    "print(\"Mean value:\")\n",
    "print(a)"
   ]
  },
  {
   "cell_type": "code",
   "execution_count": null,
   "id": "c493e9e8",
   "metadata": {},
   "outputs": [],
   "source": []
  }
 ],
 "metadata": {
  "kernelspec": {
   "display_name": "Python 3 (ipykernel)",
   "language": "python",
   "name": "python3"
  },
  "language_info": {
   "codemirror_mode": {
    "name": "ipython",
    "version": 3
   },
   "file_extension": ".py",
   "mimetype": "text/x-python",
   "name": "python",
   "nbconvert_exporter": "python",
   "pygments_lexer": "ipython3",
   "version": "3.11.5"
  }
 },
 "nbformat": 4,
 "nbformat_minor": 5
}
